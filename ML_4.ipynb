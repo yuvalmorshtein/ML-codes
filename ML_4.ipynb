{
  "nbformat": 4,
  "nbformat_minor": 0,
  "metadata": {
    "colab": {
      "name": "ML-4.ipynb",
      "provenance": [],
      "collapsed_sections": []
    },
    "kernelspec": {
      "name": "python3",
      "display_name": "Python 3"
    }
  },
  "cells": [
    {
      "cell_type": "code",
      "metadata": {
        "id": "hJk3hVOvk4Vb",
        "colab_type": "code",
        "colab": {}
      },
      "source": [
        "import numpy as np\n",
        "import pandas as pd\n",
        "import matplotlib.pyplot as plt\n",
        "%matplotlib inline\n",
        "import seaborn as sns\n",
        "from sklearn.model_selection import train_test_split\n",
        "from sklearn.preprocessing import StandardScaler\n",
        "white_data_not_scaled  = pd.read_csv(\"winequality-white.csv\", delimiter=\";\")\n",
        "red_data_not_scaled = pd.read_csv(\"winequality-red.csv\", delimiter=\";\")\n",
        "white_scaler= StandardScaler()\n",
        "red_scaler = white_scaler = StandardScaler()\n",
        "white_scaler.fit(white_data_not_scaled.drop('quality', axis = 1))\n",
        "white_data_arr = white_scaler.transform(white_data_not_scaled.drop('quality', axis = 1))\n",
        "white_data = pd.DataFrame(white_data_arr, index=white_data_not_scaled.drop('quality', axis = 1).index, columns=white_data_not_scaled.drop('quality', axis = 1).columns)\n",
        "red_scaler.fit(red_data_not_scaled.drop('quality', axis = 1))\n",
        "red_data_arr = red_scaler.transform(red_data_not_scaled.drop('quality', axis = 1))\n",
        "red_data = pd.DataFrame(red_data_arr, index=red_data_not_scaled.drop('quality', axis = 1).index, columns=red_data_not_scaled.drop('quality', axis = 1).columns)"
      ],
      "execution_count": 138,
      "outputs": []
    },
    {
      "cell_type": "code",
      "metadata": {
        "id": "aPRfvr9Ilub0",
        "colab_type": "code",
        "colab": {
          "base_uri": "https://localhost:8080/",
          "height": 70
        },
        "outputId": "6c360678-e67d-4f25-8cb5-346ae263cc32"
      },
      "source": [
        "errors_for_columns = []\n",
        "labels = np.array(white_data_not_scaled['quality'])\n",
        "feature_list = list(white_data.columns.values)\n",
        "train_features, test_features, train_labels, test_labels = train_test_split(white_data, labels, test_size = 0.25)\n",
        "from sklearn.linear_model import LinearRegression\n",
        "from sklearn.metrics import mean_absolute_error\n",
        "\n",
        "lr = LinearRegression()\n",
        "lr.fit(train_features, train_labels)\n",
        "c = lr.predict([[0] * 11])[0]\n",
        "predictions = lr.predict(test_features)\n",
        "error = mean_absolute_error(test_labels, predictions)\n",
        "B = lr.coef_\n",
        "print(list(zip(B, feature_list)))\n",
        "print(error)"
      ],
      "execution_count": 139,
      "outputs": [
        {
          "output_type": "stream",
          "text": [
            "[(0.053679594101978874, 'fixed acidity'), (-0.1801145044746018, 'volatile acidity'), (-0.005175785672119668, 'citric acid'), (0.4033025798886995, 'residual sugar'), (-0.012923862940276688, 'chlorides'), (0.08079466436347589, 'free sulfur dioxide'), (-0.004746462817115368, 'total sulfur dioxide'), (-0.4274199263559272, 'density'), (0.09911545082275011, 'pH'), (0.07133390146006943, 'sulphates'), (0.26699467734563403, 'alcohol')]\n",
            "0.5707654372282618\n"
          ],
          "name": "stdout"
        }
      ]
    },
    {
      "cell_type": "code",
      "metadata": {
        "id": "Gxcss3ZgavyV",
        "colab_type": "code",
        "colab": {
          "base_uri": "https://localhost:8080/",
          "height": 138
        },
        "outputId": "ffd66270-d4e6-4e05-e841-dcd6eac2993f"
      },
      "source": [
        "max = []\n",
        "min = []\n",
        "for x in white_data.columns.values:\n",
        "  max.append(white_data_not_scaled[x].max())\n",
        "  min.append(white_data_not_scaled[x].min())\n",
        "high = white_scaler.transform([max])\n",
        "low = white_scaler.transform([min])\n",
        "high_modified = [x if x < 3 else 3 for x in high[0]]\n",
        "low_modified = [x if x > -3 else -3 for x in low[0]]\n",
        "print(high)\n",
        "print(low)\n",
        "print(high_modified)\n",
        "print(low_modified)"
      ],
      "execution_count": 140,
      "outputs": [
        {
          "output_type": "stream",
          "text": [
            "[[ 3.3784  3.1965  7.1327 44.8824  5.4948 26.1192 11.9669 22.3842  3.2972\n",
            "   2.4895  3.5454]]\n",
            "[[-2.5967 -2.5017 -1.3915 -1.3755 -1.6677 -1.3269 -1.1394 -5.1076 -3.83\n",
            "  -2.5857 -2.2744]]\n",
            "[3, 3, 3, 3, 3, 3, 3, 3, 3, 2.489473476718105, 3]\n",
            "[-2.596669213182548, -2.5017388031722625, -1.3914722776605752, -1.3755397167252128, -1.6677060569057258, -1.3268694271963943, -1.139356868200391, -3, -3, -2.5856511367579436, -2.2743875923873964]\n"
          ],
          "name": "stdout"
        }
      ]
    },
    {
      "cell_type": "code",
      "metadata": {
        "id": "KO-LP6LHwIpU",
        "colab_type": "code",
        "colab": {}
      },
      "source": [
        "import random as rnd\n",
        "again = True\n",
        "while again:\n",
        "  sum = 0\n",
        "  x10 = (10- c)/B[10]\n",
        "  helper = []\n",
        "  for  i in range(10):\n",
        "    helper.append(rnd.uniform(low_modified[i], high_modified[i]))\n",
        "    x10 = x10 - (B[i]/B[10]) * helper[i]\n",
        "  helper.append(x10)\n",
        "  if x10>-3 and x10<3:\n",
        "    again = False"
      ],
      "execution_count": 141,
      "outputs": []
    },
    {
      "cell_type": "code",
      "metadata": {
        "id": "FzugEA1lRCcz",
        "colab_type": "code",
        "colab": {
          "base_uri": "https://localhost:8080/",
          "height": 202
        },
        "outputId": "98a71ea9-4aea-4338-bbee-2f13570372cf"
      },
      "source": [
        "helper"
      ],
      "execution_count": 142,
      "outputs": [
        {
          "output_type": "execute_result",
          "data": {
            "text/plain": [
              "[1.9205835245756977,\n",
              " -2.3599634161555136,\n",
              " -0.7367591581790307,\n",
              " 2.8938895158039117,\n",
              " -0.4572973028803562,\n",
              " 0.8763596279264079,\n",
              " -0.2773442510044326,\n",
              " -2.840965682657182,\n",
              " 2.183185195052803,\n",
              " 1.5404734216848,\n",
              " 2.957815240470361]"
            ]
          },
          "metadata": {
            "tags": []
          },
          "execution_count": 142
        }
      ]
    },
    {
      "cell_type": "code",
      "metadata": {
        "id": "y72Yhiss-9m-",
        "colab_type": "code",
        "colab": {
          "base_uri": "https://localhost:8080/",
          "height": 34
        },
        "outputId": "b87242fe-4fce-4547-d99d-83b7bccc51fc"
      },
      "source": [
        "lr.predict([helper])"
      ],
      "execution_count": 143,
      "outputs": [
        {
          "output_type": "execute_result",
          "data": {
            "text/plain": [
              "array([10.])"
            ]
          },
          "metadata": {
            "tags": []
          },
          "execution_count": 143
        }
      ]
    },
    {
      "cell_type": "code",
      "metadata": {
        "id": "iD4BU7wwgZlw",
        "colab_type": "code",
        "colab": {}
      },
      "source": [
        "good_white_wine = white_scaler.inverse_transform(helper)"
      ],
      "execution_count": 144,
      "outputs": []
    },
    {
      "cell_type": "code",
      "metadata": {
        "id": "8pLfCI3sghPd",
        "colab_type": "code",
        "colab": {
          "base_uri": "https://localhost:8080/",
          "height": 338
        },
        "outputId": "d472180a-8e33-4f5f-9211-72004c42edb0"
      },
      "source": [
        "white_data_not_scaled.describe()"
      ],
      "execution_count": 145,
      "outputs": [
        {
          "output_type": "execute_result",
          "data": {
            "text/html": [
              "<div>\n",
              "<style scoped>\n",
              "    .dataframe tbody tr th:only-of-type {\n",
              "        vertical-align: middle;\n",
              "    }\n",
              "\n",
              "    .dataframe tbody tr th {\n",
              "        vertical-align: top;\n",
              "    }\n",
              "\n",
              "    .dataframe thead th {\n",
              "        text-align: right;\n",
              "    }\n",
              "</style>\n",
              "<table border=\"1\" class=\"dataframe\">\n",
              "  <thead>\n",
              "    <tr style=\"text-align: right;\">\n",
              "      <th></th>\n",
              "      <th>fixed acidity</th>\n",
              "      <th>volatile acidity</th>\n",
              "      <th>citric acid</th>\n",
              "      <th>residual sugar</th>\n",
              "      <th>chlorides</th>\n",
              "      <th>free sulfur dioxide</th>\n",
              "      <th>total sulfur dioxide</th>\n",
              "      <th>density</th>\n",
              "      <th>pH</th>\n",
              "      <th>sulphates</th>\n",
              "      <th>alcohol</th>\n",
              "      <th>quality</th>\n",
              "    </tr>\n",
              "  </thead>\n",
              "  <tbody>\n",
              "    <tr>\n",
              "      <th>count</th>\n",
              "      <td>4898.000000</td>\n",
              "      <td>4898.000000</td>\n",
              "      <td>4898.000000</td>\n",
              "      <td>4898.000000</td>\n",
              "      <td>4898.000000</td>\n",
              "      <td>4898.000000</td>\n",
              "      <td>4898.000000</td>\n",
              "      <td>4898.000000</td>\n",
              "      <td>4898.000000</td>\n",
              "      <td>4898.000000</td>\n",
              "      <td>4898.000000</td>\n",
              "      <td>4898.000000</td>\n",
              "    </tr>\n",
              "    <tr>\n",
              "      <th>mean</th>\n",
              "      <td>6.854788</td>\n",
              "      <td>0.278241</td>\n",
              "      <td>0.334192</td>\n",
              "      <td>6.391415</td>\n",
              "      <td>0.045772</td>\n",
              "      <td>35.308085</td>\n",
              "      <td>138.360657</td>\n",
              "      <td>0.994027</td>\n",
              "      <td>3.188267</td>\n",
              "      <td>0.489847</td>\n",
              "      <td>10.514267</td>\n",
              "      <td>5.877909</td>\n",
              "    </tr>\n",
              "    <tr>\n",
              "      <th>std</th>\n",
              "      <td>0.843868</td>\n",
              "      <td>0.100795</td>\n",
              "      <td>0.121020</td>\n",
              "      <td>5.072058</td>\n",
              "      <td>0.021848</td>\n",
              "      <td>17.007137</td>\n",
              "      <td>42.498065</td>\n",
              "      <td>0.002991</td>\n",
              "      <td>0.151001</td>\n",
              "      <td>0.114126</td>\n",
              "      <td>1.230621</td>\n",
              "      <td>0.885639</td>\n",
              "    </tr>\n",
              "    <tr>\n",
              "      <th>min</th>\n",
              "      <td>3.800000</td>\n",
              "      <td>0.080000</td>\n",
              "      <td>0.000000</td>\n",
              "      <td>0.600000</td>\n",
              "      <td>0.009000</td>\n",
              "      <td>2.000000</td>\n",
              "      <td>9.000000</td>\n",
              "      <td>0.987110</td>\n",
              "      <td>2.720000</td>\n",
              "      <td>0.220000</td>\n",
              "      <td>8.000000</td>\n",
              "      <td>3.000000</td>\n",
              "    </tr>\n",
              "    <tr>\n",
              "      <th>25%</th>\n",
              "      <td>6.300000</td>\n",
              "      <td>0.210000</td>\n",
              "      <td>0.270000</td>\n",
              "      <td>1.700000</td>\n",
              "      <td>0.036000</td>\n",
              "      <td>23.000000</td>\n",
              "      <td>108.000000</td>\n",
              "      <td>0.991723</td>\n",
              "      <td>3.090000</td>\n",
              "      <td>0.410000</td>\n",
              "      <td>9.500000</td>\n",
              "      <td>5.000000</td>\n",
              "    </tr>\n",
              "    <tr>\n",
              "      <th>50%</th>\n",
              "      <td>6.800000</td>\n",
              "      <td>0.260000</td>\n",
              "      <td>0.320000</td>\n",
              "      <td>5.200000</td>\n",
              "      <td>0.043000</td>\n",
              "      <td>34.000000</td>\n",
              "      <td>134.000000</td>\n",
              "      <td>0.993740</td>\n",
              "      <td>3.180000</td>\n",
              "      <td>0.470000</td>\n",
              "      <td>10.400000</td>\n",
              "      <td>6.000000</td>\n",
              "    </tr>\n",
              "    <tr>\n",
              "      <th>75%</th>\n",
              "      <td>7.300000</td>\n",
              "      <td>0.320000</td>\n",
              "      <td>0.390000</td>\n",
              "      <td>9.900000</td>\n",
              "      <td>0.050000</td>\n",
              "      <td>46.000000</td>\n",
              "      <td>167.000000</td>\n",
              "      <td>0.996100</td>\n",
              "      <td>3.280000</td>\n",
              "      <td>0.550000</td>\n",
              "      <td>11.400000</td>\n",
              "      <td>6.000000</td>\n",
              "    </tr>\n",
              "    <tr>\n",
              "      <th>max</th>\n",
              "      <td>14.200000</td>\n",
              "      <td>1.100000</td>\n",
              "      <td>1.660000</td>\n",
              "      <td>65.800000</td>\n",
              "      <td>0.346000</td>\n",
              "      <td>289.000000</td>\n",
              "      <td>440.000000</td>\n",
              "      <td>1.038980</td>\n",
              "      <td>3.820000</td>\n",
              "      <td>1.080000</td>\n",
              "      <td>14.200000</td>\n",
              "      <td>9.000000</td>\n",
              "    </tr>\n",
              "  </tbody>\n",
              "</table>\n",
              "</div>"
            ],
            "text/plain": [
              "       fixed acidity  volatile acidity  ...      alcohol      quality\n",
              "count    4898.000000       4898.000000  ...  4898.000000  4898.000000\n",
              "mean        6.854788          0.278241  ...    10.514267     5.877909\n",
              "std         0.843868          0.100795  ...     1.230621     0.885639\n",
              "min         3.800000          0.080000  ...     8.000000     3.000000\n",
              "25%         6.300000          0.210000  ...     9.500000     5.000000\n",
              "50%         6.800000          0.260000  ...    10.400000     6.000000\n",
              "75%         7.300000          0.320000  ...    11.400000     6.000000\n",
              "max        14.200000          1.100000  ...    14.200000     9.000000\n",
              "\n",
              "[8 rows x 12 columns]"
            ]
          },
          "metadata": {
            "tags": []
          },
          "execution_count": 145
        }
      ]
    },
    {
      "cell_type": "code",
      "metadata": {
        "id": "jnucSBjTi95G",
        "colab_type": "code",
        "colab": {
          "base_uri": "https://localhost:8080/",
          "height": 50
        },
        "outputId": "7664ed0d-e722-45aa-bdd6-91872f8c6776"
      },
      "source": [
        "np.set_printoptions(suppress=True)\n",
        "print(good_white_wine)"
      ],
      "execution_count": 146,
      "outputs": [
        {
          "output_type": "stream",
          "text": [
            "[11.6625  0.1054  0.1275  6.6177  0.066  25.0389 37.3473  0.9914  3.6481\n",
            "  0.9192 13.574 ]\n"
          ],
          "name": "stdout"
        }
      ]
    },
    {
      "cell_type": "code",
      "metadata": {
        "id": "B7jeXWyZuTEt",
        "colab_type": "code",
        "colab": {
          "base_uri": "https://localhost:8080/",
          "height": 70
        },
        "outputId": "0645c6d3-57ae-4e3f-d5cf-74b3af7fb8f9"
      },
      "source": [
        "labels = np.array(red_data_not_scaled['quality'])\n",
        "feature_list = list(red_data.columns.values)\n",
        "train_features, test_features, train_labels, test_labels = train_test_split(red_data, labels, test_size = 0.25)\n",
        "\n",
        "from sklearn.svm import SVR\n",
        "lr = SVR(kernel='linear')\n",
        "lr.fit(train_features, train_labels)\n",
        "c = lr.predict([[0] * 11])[0]\n",
        "predictions = lr.predict(test_features)\n",
        "error = mean_absolute_error(test_labels, predictions)\n",
        "B = lr.coef_[0]\n",
        "print(list(zip(B, feature_list)))\n",
        "print(error)"
      ],
      "execution_count": 147,
      "outputs": [
        {
          "output_type": "stream",
          "text": [
            "[(0.10522369525440112, 'fixed acidity'), (-0.16567270708223047, 'volatile acidity'), (-0.050354297866719966, 'citric acid'), (0.07784128328002288, 'residual sugar'), (-0.07492964875356312, 'chlorides'), (0.028237878742932487, 'free sulfur dioxide'), (-0.09185110298060961, 'total sulfur dioxide'), (-0.08176965986234488, 'density'), (-0.043717996689981053, 'pH'), (0.1591217654928423, 'sulphates'), (0.35290895094383773, 'alcohol')]\n",
            "0.5349326655323975\n"
          ],
          "name": "stdout"
        }
      ]
    },
    {
      "cell_type": "code",
      "metadata": {
        "id": "D1zxym8WuSGi",
        "colab_type": "code",
        "colab": {
          "base_uri": "https://localhost:8080/",
          "height": 138
        },
        "outputId": "58f51406-f2b0-4116-b324-8fec6a76b167"
      },
      "source": [
        "max = []\n",
        "min = []\n",
        "for x in red_data.columns.values:\n",
        "  max.append(red_data_not_scaled[x].max())\n",
        "  min.append(red_data_not_scaled[x].min())\n",
        "high = red_scaler.transform([max])\n",
        "low = red_scaler.transform([min])\n",
        "high_modified = [x if x < 8 else 8 for x in high[0]]\n",
        "low_modified = [x if x > -8 else -8 for x in low[0]]\n",
        "print(high)\n",
        "print(low)\n",
        "print(high_modified)\n",
        "print(low_modified)"
      ],
      "execution_count": 148,
      "outputs": [
        {
          "output_type": "stream",
          "text": [
            "[[ 4.3551  5.878   3.7436  9.1957 11.127   5.3673  7.3752  3.6801  4.5283\n",
            "   7.9187  4.2025]]\n",
            "[[-2.137  -2.2783 -1.3915 -1.1627 -1.6039 -1.4225 -1.2306 -3.5387 -3.7004\n",
            "  -1.9365 -1.8989]]\n",
            "[4.355149169489777, 5.87797605428994, 3.743573931527866, 8, 8, 5.367284317782079, 7.375153940009771, 3.6800551248443094, 4.528281970573037, 7.918676551599458, 4.202452586112064]\n",
            "[-2.137044857303386, -2.278279740306604, -1.3914722776605752, -1.1626963374974064, -1.6039448910707979, -1.422500194981801, -1.2305837697169284, -3.538731398195885, -3.700401226239349, -1.9365072908482162, -1.8989185965323547]\n"
          ],
          "name": "stdout"
        }
      ]
    },
    {
      "cell_type": "code",
      "metadata": {
        "id": "yCT-geXqLWEx",
        "colab_type": "code",
        "colab": {}
      },
      "source": [
        "import random as rnd\n",
        "again = True\n",
        "while again:\n",
        "  sum = 0\n",
        "  x10 = (10 - c)/B[10]\n",
        "  helper = []\n",
        "  for  i in range(10):\n",
        "    helper.append(rnd.uniform(low_modified[i], high_modified[i]))\n",
        "    x10 = x10 - (B[i]/B[10]) * helper[i]\n",
        "  helper.append(x10)\n",
        "  if x10>-4 and x10<4:\n",
        "    again = False"
      ],
      "execution_count": 149,
      "outputs": []
    },
    {
      "cell_type": "code",
      "metadata": {
        "id": "kbhwvJoCuBCs",
        "colab_type": "code",
        "colab": {
          "base_uri": "https://localhost:8080/",
          "height": 70
        },
        "outputId": "7c80f480-be65-4345-c19d-e1feb6286d8f"
      },
      "source": [
        "print(helper)\n",
        "lr.predict([helper])"
      ],
      "execution_count": 150,
      "outputs": [
        {
          "output_type": "stream",
          "text": [
            "[3.8906107416477145, -1.9677137937442108, -0.22749169200751118, 7.514111100886236, -0.9283213449015979, 4.232348223382669, -0.5701069418791957, -1.6299219572181363, -3.3712236729406415, 7.256984061985782, 3.888733298439179]\n"
          ],
          "name": "stdout"
        },
        {
          "output_type": "execute_result",
          "data": {
            "text/plain": [
              "array([10.])"
            ]
          },
          "metadata": {
            "tags": []
          },
          "execution_count": 150
        }
      ]
    },
    {
      "cell_type": "code",
      "metadata": {
        "id": "_UInYJVHuBWw",
        "colab_type": "code",
        "colab": {}
      },
      "source": [
        "good_red_wine = red_scaler.inverse_transform(helper)"
      ],
      "execution_count": 151,
      "outputs": []
    },
    {
      "cell_type": "code",
      "metadata": {
        "id": "UR37rT7JuBZv",
        "colab_type": "code",
        "colab": {
          "base_uri": "https://localhost:8080/",
          "height": 338
        },
        "outputId": "6ec370fe-0878-4fc2-edff-ae6031f238a5"
      },
      "source": [
        "red_data_not_scaled.describe()"
      ],
      "execution_count": 152,
      "outputs": [
        {
          "output_type": "execute_result",
          "data": {
            "text/html": [
              "<div>\n",
              "<style scoped>\n",
              "    .dataframe tbody tr th:only-of-type {\n",
              "        vertical-align: middle;\n",
              "    }\n",
              "\n",
              "    .dataframe tbody tr th {\n",
              "        vertical-align: top;\n",
              "    }\n",
              "\n",
              "    .dataframe thead th {\n",
              "        text-align: right;\n",
              "    }\n",
              "</style>\n",
              "<table border=\"1\" class=\"dataframe\">\n",
              "  <thead>\n",
              "    <tr style=\"text-align: right;\">\n",
              "      <th></th>\n",
              "      <th>fixed acidity</th>\n",
              "      <th>volatile acidity</th>\n",
              "      <th>citric acid</th>\n",
              "      <th>residual sugar</th>\n",
              "      <th>chlorides</th>\n",
              "      <th>free sulfur dioxide</th>\n",
              "      <th>total sulfur dioxide</th>\n",
              "      <th>density</th>\n",
              "      <th>pH</th>\n",
              "      <th>sulphates</th>\n",
              "      <th>alcohol</th>\n",
              "      <th>quality</th>\n",
              "    </tr>\n",
              "  </thead>\n",
              "  <tbody>\n",
              "    <tr>\n",
              "      <th>count</th>\n",
              "      <td>1599.000000</td>\n",
              "      <td>1599.000000</td>\n",
              "      <td>1599.000000</td>\n",
              "      <td>1599.000000</td>\n",
              "      <td>1599.000000</td>\n",
              "      <td>1599.000000</td>\n",
              "      <td>1599.000000</td>\n",
              "      <td>1599.000000</td>\n",
              "      <td>1599.000000</td>\n",
              "      <td>1599.000000</td>\n",
              "      <td>1599.000000</td>\n",
              "      <td>1599.000000</td>\n",
              "    </tr>\n",
              "    <tr>\n",
              "      <th>mean</th>\n",
              "      <td>8.319637</td>\n",
              "      <td>0.527821</td>\n",
              "      <td>0.270976</td>\n",
              "      <td>2.538806</td>\n",
              "      <td>0.087467</td>\n",
              "      <td>15.874922</td>\n",
              "      <td>46.467792</td>\n",
              "      <td>0.996747</td>\n",
              "      <td>3.311113</td>\n",
              "      <td>0.658149</td>\n",
              "      <td>10.422983</td>\n",
              "      <td>5.636023</td>\n",
              "    </tr>\n",
              "    <tr>\n",
              "      <th>std</th>\n",
              "      <td>1.741096</td>\n",
              "      <td>0.179060</td>\n",
              "      <td>0.194801</td>\n",
              "      <td>1.409928</td>\n",
              "      <td>0.047065</td>\n",
              "      <td>10.460157</td>\n",
              "      <td>32.895324</td>\n",
              "      <td>0.001887</td>\n",
              "      <td>0.154386</td>\n",
              "      <td>0.169507</td>\n",
              "      <td>1.065668</td>\n",
              "      <td>0.807569</td>\n",
              "    </tr>\n",
              "    <tr>\n",
              "      <th>min</th>\n",
              "      <td>4.600000</td>\n",
              "      <td>0.120000</td>\n",
              "      <td>0.000000</td>\n",
              "      <td>0.900000</td>\n",
              "      <td>0.012000</td>\n",
              "      <td>1.000000</td>\n",
              "      <td>6.000000</td>\n",
              "      <td>0.990070</td>\n",
              "      <td>2.740000</td>\n",
              "      <td>0.330000</td>\n",
              "      <td>8.400000</td>\n",
              "      <td>3.000000</td>\n",
              "    </tr>\n",
              "    <tr>\n",
              "      <th>25%</th>\n",
              "      <td>7.100000</td>\n",
              "      <td>0.390000</td>\n",
              "      <td>0.090000</td>\n",
              "      <td>1.900000</td>\n",
              "      <td>0.070000</td>\n",
              "      <td>7.000000</td>\n",
              "      <td>22.000000</td>\n",
              "      <td>0.995600</td>\n",
              "      <td>3.210000</td>\n",
              "      <td>0.550000</td>\n",
              "      <td>9.500000</td>\n",
              "      <td>5.000000</td>\n",
              "    </tr>\n",
              "    <tr>\n",
              "      <th>50%</th>\n",
              "      <td>7.900000</td>\n",
              "      <td>0.520000</td>\n",
              "      <td>0.260000</td>\n",
              "      <td>2.200000</td>\n",
              "      <td>0.079000</td>\n",
              "      <td>14.000000</td>\n",
              "      <td>38.000000</td>\n",
              "      <td>0.996750</td>\n",
              "      <td>3.310000</td>\n",
              "      <td>0.620000</td>\n",
              "      <td>10.200000</td>\n",
              "      <td>6.000000</td>\n",
              "    </tr>\n",
              "    <tr>\n",
              "      <th>75%</th>\n",
              "      <td>9.200000</td>\n",
              "      <td>0.640000</td>\n",
              "      <td>0.420000</td>\n",
              "      <td>2.600000</td>\n",
              "      <td>0.090000</td>\n",
              "      <td>21.000000</td>\n",
              "      <td>62.000000</td>\n",
              "      <td>0.997835</td>\n",
              "      <td>3.400000</td>\n",
              "      <td>0.730000</td>\n",
              "      <td>11.100000</td>\n",
              "      <td>6.000000</td>\n",
              "    </tr>\n",
              "    <tr>\n",
              "      <th>max</th>\n",
              "      <td>15.900000</td>\n",
              "      <td>1.580000</td>\n",
              "      <td>1.000000</td>\n",
              "      <td>15.500000</td>\n",
              "      <td>0.611000</td>\n",
              "      <td>72.000000</td>\n",
              "      <td>289.000000</td>\n",
              "      <td>1.003690</td>\n",
              "      <td>4.010000</td>\n",
              "      <td>2.000000</td>\n",
              "      <td>14.900000</td>\n",
              "      <td>8.000000</td>\n",
              "    </tr>\n",
              "  </tbody>\n",
              "</table>\n",
              "</div>"
            ],
            "text/plain": [
              "       fixed acidity  volatile acidity  ...      alcohol      quality\n",
              "count    1599.000000       1599.000000  ...  1599.000000  1599.000000\n",
              "mean        8.319637          0.527821  ...    10.422983     5.636023\n",
              "std         1.741096          0.179060  ...     1.065668     0.807569\n",
              "min         4.600000          0.120000  ...     8.400000     3.000000\n",
              "25%         7.100000          0.390000  ...     9.500000     5.000000\n",
              "50%         7.900000          0.520000  ...    10.200000     6.000000\n",
              "75%         9.200000          0.640000  ...    11.100000     6.000000\n",
              "max        15.900000          1.580000  ...    14.900000     8.000000\n",
              "\n",
              "[8 rows x 12 columns]"
            ]
          },
          "metadata": {
            "tags": []
          },
          "execution_count": 152
        }
      ]
    },
    {
      "cell_type": "code",
      "metadata": {
        "id": "FT70w1A3uBGv",
        "colab_type": "code",
        "colab": {
          "base_uri": "https://localhost:8080/",
          "height": 50
        },
        "outputId": "eb4d3f1b-7a74-4421-bc4d-1ef732f4ea76"
      },
      "source": [
        "np.set_printoptions(precision=4)\n",
        "np.set_printoptions(suppress=True)\n",
        "print(good_red_wine)"
      ],
      "execution_count": 153,
      "outputs": [
        {
          "output_type": "stream",
          "text": [
            "[15.0914  0.1756  0.2267 13.1298  0.0438 60.1321 27.7198  0.9937  2.7908\n",
            "  1.8879 14.5658]\n"
          ],
          "name": "stdout"
        }
      ]
    },
    {
      "cell_type": "code",
      "metadata": {
        "id": "dnjl_JWRuAxJ",
        "colab_type": "code",
        "colab": {}
      },
      "source": [
        ""
      ],
      "execution_count": 153,
      "outputs": []
    }
  ]
}